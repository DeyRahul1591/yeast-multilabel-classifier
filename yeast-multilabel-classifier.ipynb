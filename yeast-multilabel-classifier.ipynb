{
 "cells": [
  {
   "cell_type": "markdown",
   "metadata": {},
   "source": [
    "# Multi-label Classification"
   ]
  },
  {
   "cell_type": "markdown",
   "metadata": {},
   "source": [
    "## Import Packages"
   ]
  },
  {
   "cell_type": "code",
   "execution_count": 1,
   "metadata": {},
   "outputs": [],
   "source": [
    "from IPython.display import display, HTML, Image\n",
    "\n",
    "import pandas as pd\n",
    "import numpy as np\n",
    "import matplotlib.pyplot as plt\n",
    "import copy\n",
    "import random\n",
    "\n",
    "from sklearn.base import BaseEstimator, ClassifierMixin, clone\n",
    "from sklearn.utils.validation import check_X_y, check_array, check_is_fitted\n",
    "from sklearn.model_selection import train_test_split\n",
    "from sklearn.model_selection import GridSearchCV\n",
    "\n",
    "from sklearn.tree import DecisionTreeClassifier\n",
    "from sklearn.ensemble import RandomForestClassifier\n",
    "from sklearn.linear_model import LogisticRegression\n",
    "from sklearn.naive_bayes import GaussianNB\n",
    "from sklearn.neighbors import KNeighborsClassifier\n",
    "from sklearn.svm import SVC\n",
    "\n",
    "from sklearn.metrics import make_scorer\n",
    "from sklearn import metrics\n",
    "\n",
    "# to avoid future warnings for sklearn\n",
    "import warnings\n",
    "warnings.filterwarnings(\"ignore\")"
   ]
  },
  {
   "cell_type": "markdown",
   "metadata": {},
   "source": [
    "## Task 0: Load the Yeast Dataset"
   ]
  },
  {
   "cell_type": "code",
   "execution_count": 2,
   "metadata": {},
   "outputs": [
    {
     "name": "stdout",
     "output_type": "stream",
     "text": [
      "Dataset.shape: (2417, 117)\n",
      "X.shape: (2417, 103)\n"
     ]
    },
    {
     "data": {
      "text/html": [
       "<div>\n",
       "<style scoped>\n",
       "    .dataframe tbody tr th:only-of-type {\n",
       "        vertical-align: middle;\n",
       "    }\n",
       "\n",
       "    .dataframe tbody tr th {\n",
       "        vertical-align: top;\n",
       "    }\n",
       "\n",
       "    .dataframe thead th {\n",
       "        text-align: right;\n",
       "    }\n",
       "</style>\n",
       "<table border=\"1\" class=\"dataframe\">\n",
       "  <thead>\n",
       "    <tr style=\"text-align: right;\">\n",
       "      <th></th>\n",
       "      <th>Att1</th>\n",
       "      <th>Att2</th>\n",
       "      <th>Att3</th>\n",
       "      <th>Att4</th>\n",
       "      <th>Att5</th>\n",
       "      <th>Att6</th>\n",
       "      <th>Att7</th>\n",
       "      <th>Att8</th>\n",
       "      <th>Att9</th>\n",
       "      <th>Att10</th>\n",
       "      <th>...</th>\n",
       "      <th>Att94</th>\n",
       "      <th>Att95</th>\n",
       "      <th>Att96</th>\n",
       "      <th>Att97</th>\n",
       "      <th>Att98</th>\n",
       "      <th>Att99</th>\n",
       "      <th>Att100</th>\n",
       "      <th>Att101</th>\n",
       "      <th>Att102</th>\n",
       "      <th>Att103</th>\n",
       "    </tr>\n",
       "  </thead>\n",
       "  <tbody>\n",
       "    <tr>\n",
       "      <td>0</td>\n",
       "      <td>0.004168</td>\n",
       "      <td>-0.170975</td>\n",
       "      <td>-0.156748</td>\n",
       "      <td>-0.142151</td>\n",
       "      <td>0.058781</td>\n",
       "      <td>0.026851</td>\n",
       "      <td>0.197719</td>\n",
       "      <td>0.041850</td>\n",
       "      <td>0.066938</td>\n",
       "      <td>-0.056617</td>\n",
       "      <td>...</td>\n",
       "      <td>0.006166</td>\n",
       "      <td>-0.012976</td>\n",
       "      <td>-0.014259</td>\n",
       "      <td>-0.015024</td>\n",
       "      <td>-0.010747</td>\n",
       "      <td>0.000411</td>\n",
       "      <td>-0.032056</td>\n",
       "      <td>-0.018312</td>\n",
       "      <td>0.030126</td>\n",
       "      <td>0.124722</td>\n",
       "    </tr>\n",
       "    <tr>\n",
       "      <td>1</td>\n",
       "      <td>-0.103956</td>\n",
       "      <td>0.011879</td>\n",
       "      <td>-0.098986</td>\n",
       "      <td>-0.054501</td>\n",
       "      <td>-0.007970</td>\n",
       "      <td>0.049113</td>\n",
       "      <td>-0.030580</td>\n",
       "      <td>-0.077933</td>\n",
       "      <td>-0.080529</td>\n",
       "      <td>-0.016267</td>\n",
       "      <td>...</td>\n",
       "      <td>0.007680</td>\n",
       "      <td>0.027719</td>\n",
       "      <td>-0.085811</td>\n",
       "      <td>0.111123</td>\n",
       "      <td>0.050541</td>\n",
       "      <td>0.027565</td>\n",
       "      <td>-0.063569</td>\n",
       "      <td>-0.041471</td>\n",
       "      <td>-0.079758</td>\n",
       "      <td>0.017161</td>\n",
       "    </tr>\n",
       "    <tr>\n",
       "      <td>2</td>\n",
       "      <td>0.509949</td>\n",
       "      <td>0.401709</td>\n",
       "      <td>0.293799</td>\n",
       "      <td>0.087714</td>\n",
       "      <td>0.011686</td>\n",
       "      <td>-0.006411</td>\n",
       "      <td>-0.006255</td>\n",
       "      <td>0.013646</td>\n",
       "      <td>-0.040666</td>\n",
       "      <td>-0.024447</td>\n",
       "      <td>...</td>\n",
       "      <td>0.096277</td>\n",
       "      <td>-0.044932</td>\n",
       "      <td>-0.089470</td>\n",
       "      <td>-0.009162</td>\n",
       "      <td>-0.012010</td>\n",
       "      <td>0.308378</td>\n",
       "      <td>-0.028053</td>\n",
       "      <td>0.026710</td>\n",
       "      <td>-0.066565</td>\n",
       "      <td>-0.122352</td>\n",
       "    </tr>\n",
       "    <tr>\n",
       "      <td>3</td>\n",
       "      <td>0.119092</td>\n",
       "      <td>0.004412</td>\n",
       "      <td>-0.002262</td>\n",
       "      <td>0.072254</td>\n",
       "      <td>0.044512</td>\n",
       "      <td>-0.051467</td>\n",
       "      <td>0.074686</td>\n",
       "      <td>-0.007670</td>\n",
       "      <td>0.079438</td>\n",
       "      <td>0.062184</td>\n",
       "      <td>...</td>\n",
       "      <td>-0.083809</td>\n",
       "      <td>0.200354</td>\n",
       "      <td>-0.075716</td>\n",
       "      <td>0.196605</td>\n",
       "      <td>0.152758</td>\n",
       "      <td>-0.028484</td>\n",
       "      <td>-0.074207</td>\n",
       "      <td>-0.089227</td>\n",
       "      <td>-0.049913</td>\n",
       "      <td>-0.043893</td>\n",
       "    </tr>\n",
       "    <tr>\n",
       "      <td>4</td>\n",
       "      <td>0.042037</td>\n",
       "      <td>0.007054</td>\n",
       "      <td>-0.069483</td>\n",
       "      <td>0.081015</td>\n",
       "      <td>-0.048207</td>\n",
       "      <td>0.089446</td>\n",
       "      <td>-0.004947</td>\n",
       "      <td>0.064456</td>\n",
       "      <td>-0.133387</td>\n",
       "      <td>0.068878</td>\n",
       "      <td>...</td>\n",
       "      <td>-0.060467</td>\n",
       "      <td>0.044351</td>\n",
       "      <td>-0.057209</td>\n",
       "      <td>0.028047</td>\n",
       "      <td>0.029661</td>\n",
       "      <td>-0.050026</td>\n",
       "      <td>0.023248</td>\n",
       "      <td>-0.061539</td>\n",
       "      <td>-0.035160</td>\n",
       "      <td>0.067834</td>\n",
       "    </tr>\n",
       "  </tbody>\n",
       "</table>\n",
       "<p>5 rows × 103 columns</p>\n",
       "</div>"
      ],
      "text/plain": [
       "       Att1      Att2      Att3      Att4      Att5      Att6      Att7  \\\n",
       "0  0.004168 -0.170975 -0.156748 -0.142151  0.058781  0.026851  0.197719   \n",
       "1 -0.103956  0.011879 -0.098986 -0.054501 -0.007970  0.049113 -0.030580   \n",
       "2  0.509949  0.401709  0.293799  0.087714  0.011686 -0.006411 -0.006255   \n",
       "3  0.119092  0.004412 -0.002262  0.072254  0.044512 -0.051467  0.074686   \n",
       "4  0.042037  0.007054 -0.069483  0.081015 -0.048207  0.089446 -0.004947   \n",
       "\n",
       "       Att8      Att9     Att10  ...     Att94     Att95     Att96     Att97  \\\n",
       "0  0.041850  0.066938 -0.056617  ...  0.006166 -0.012976 -0.014259 -0.015024   \n",
       "1 -0.077933 -0.080529 -0.016267  ...  0.007680  0.027719 -0.085811  0.111123   \n",
       "2  0.013646 -0.040666 -0.024447  ...  0.096277 -0.044932 -0.089470 -0.009162   \n",
       "3 -0.007670  0.079438  0.062184  ... -0.083809  0.200354 -0.075716  0.196605   \n",
       "4  0.064456 -0.133387  0.068878  ... -0.060467  0.044351 -0.057209  0.028047   \n",
       "\n",
       "      Att98     Att99    Att100    Att101    Att102    Att103  \n",
       "0 -0.010747  0.000411 -0.032056 -0.018312  0.030126  0.124722  \n",
       "1  0.050541  0.027565 -0.063569 -0.041471 -0.079758  0.017161  \n",
       "2 -0.012010  0.308378 -0.028053  0.026710 -0.066565 -0.122352  \n",
       "3  0.152758 -0.028484 -0.074207 -0.089227 -0.049913 -0.043893  \n",
       "4  0.029661 -0.050026  0.023248 -0.061539 -0.035160  0.067834  \n",
       "\n",
       "[5 rows x 103 columns]"
      ]
     },
     "metadata": {},
     "output_type": "display_data"
    },
    {
     "name": "stdout",
     "output_type": "stream",
     "text": [
      "y.shape: (2417, 14)\n"
     ]
    },
    {
     "data": {
      "text/html": [
       "<div>\n",
       "<style scoped>\n",
       "    .dataframe tbody tr th:only-of-type {\n",
       "        vertical-align: middle;\n",
       "    }\n",
       "\n",
       "    .dataframe tbody tr th {\n",
       "        vertical-align: top;\n",
       "    }\n",
       "\n",
       "    .dataframe thead th {\n",
       "        text-align: right;\n",
       "    }\n",
       "</style>\n",
       "<table border=\"1\" class=\"dataframe\">\n",
       "  <thead>\n",
       "    <tr style=\"text-align: right;\">\n",
       "      <th></th>\n",
       "      <th>Class1</th>\n",
       "      <th>Class2</th>\n",
       "      <th>Class3</th>\n",
       "      <th>Class4</th>\n",
       "      <th>Class5</th>\n",
       "      <th>Class6</th>\n",
       "      <th>Class7</th>\n",
       "      <th>Class8</th>\n",
       "      <th>Class9</th>\n",
       "      <th>Class10</th>\n",
       "      <th>Class11</th>\n",
       "      <th>Class12</th>\n",
       "      <th>Class13</th>\n",
       "      <th>Class14</th>\n",
       "    </tr>\n",
       "  </thead>\n",
       "  <tbody>\n",
       "    <tr>\n",
       "      <td>0</td>\n",
       "      <td>0</td>\n",
       "      <td>0</td>\n",
       "      <td>0</td>\n",
       "      <td>0</td>\n",
       "      <td>0</td>\n",
       "      <td>0</td>\n",
       "      <td>1</td>\n",
       "      <td>1</td>\n",
       "      <td>0</td>\n",
       "      <td>0</td>\n",
       "      <td>0</td>\n",
       "      <td>1</td>\n",
       "      <td>1</td>\n",
       "      <td>0</td>\n",
       "    </tr>\n",
       "    <tr>\n",
       "      <td>1</td>\n",
       "      <td>0</td>\n",
       "      <td>0</td>\n",
       "      <td>1</td>\n",
       "      <td>1</td>\n",
       "      <td>0</td>\n",
       "      <td>0</td>\n",
       "      <td>0</td>\n",
       "      <td>0</td>\n",
       "      <td>0</td>\n",
       "      <td>0</td>\n",
       "      <td>0</td>\n",
       "      <td>0</td>\n",
       "      <td>0</td>\n",
       "      <td>0</td>\n",
       "    </tr>\n",
       "    <tr>\n",
       "      <td>2</td>\n",
       "      <td>0</td>\n",
       "      <td>1</td>\n",
       "      <td>1</td>\n",
       "      <td>0</td>\n",
       "      <td>0</td>\n",
       "      <td>0</td>\n",
       "      <td>0</td>\n",
       "      <td>0</td>\n",
       "      <td>0</td>\n",
       "      <td>0</td>\n",
       "      <td>0</td>\n",
       "      <td>1</td>\n",
       "      <td>1</td>\n",
       "      <td>0</td>\n",
       "    </tr>\n",
       "    <tr>\n",
       "      <td>3</td>\n",
       "      <td>0</td>\n",
       "      <td>0</td>\n",
       "      <td>1</td>\n",
       "      <td>1</td>\n",
       "      <td>0</td>\n",
       "      <td>0</td>\n",
       "      <td>0</td>\n",
       "      <td>0</td>\n",
       "      <td>0</td>\n",
       "      <td>0</td>\n",
       "      <td>0</td>\n",
       "      <td>0</td>\n",
       "      <td>0</td>\n",
       "      <td>0</td>\n",
       "    </tr>\n",
       "    <tr>\n",
       "      <td>4</td>\n",
       "      <td>0</td>\n",
       "      <td>0</td>\n",
       "      <td>1</td>\n",
       "      <td>1</td>\n",
       "      <td>1</td>\n",
       "      <td>1</td>\n",
       "      <td>0</td>\n",
       "      <td>0</td>\n",
       "      <td>0</td>\n",
       "      <td>0</td>\n",
       "      <td>0</td>\n",
       "      <td>0</td>\n",
       "      <td>0</td>\n",
       "      <td>0</td>\n",
       "    </tr>\n",
       "  </tbody>\n",
       "</table>\n",
       "</div>"
      ],
      "text/plain": [
       "   Class1  Class2  Class3  Class4  Class5  Class6  Class7  Class8  Class9  \\\n",
       "0       0       0       0       0       0       0       1       1       0   \n",
       "1       0       0       1       1       0       0       0       0       0   \n",
       "2       0       1       1       0       0       0       0       0       0   \n",
       "3       0       0       1       1       0       0       0       0       0   \n",
       "4       0       0       1       1       1       1       0       0       0   \n",
       "\n",
       "   Class10  Class11  Class12  Class13  Class14  \n",
       "0        0        0        1        1        0  \n",
       "1        0        0        0        0        0  \n",
       "2        0        0        1        1        0  \n",
       "3        0        0        0        0        0  \n",
       "4        0        0        0        0        0  "
      ]
     },
     "metadata": {},
     "output_type": "display_data"
    },
    {
     "name": "stdout",
     "output_type": "stream",
     "text": [
      "Descriptive stats:\n"
     ]
    },
    {
     "data": {
      "text/html": [
       "<div>\n",
       "<style scoped>\n",
       "    .dataframe tbody tr th:only-of-type {\n",
       "        vertical-align: middle;\n",
       "    }\n",
       "\n",
       "    .dataframe tbody tr th {\n",
       "        vertical-align: top;\n",
       "    }\n",
       "\n",
       "    .dataframe thead th {\n",
       "        text-align: right;\n",
       "    }\n",
       "</style>\n",
       "<table border=\"1\" class=\"dataframe\">\n",
       "  <thead>\n",
       "    <tr style=\"text-align: right;\">\n",
       "      <th></th>\n",
       "      <th>Att1</th>\n",
       "      <th>Att2</th>\n",
       "      <th>Att3</th>\n",
       "      <th>Att4</th>\n",
       "      <th>Att5</th>\n",
       "      <th>Att6</th>\n",
       "      <th>Att7</th>\n",
       "      <th>Att8</th>\n",
       "      <th>Att9</th>\n",
       "      <th>Att10</th>\n",
       "      <th>...</th>\n",
       "      <th>Att94</th>\n",
       "      <th>Att95</th>\n",
       "      <th>Att96</th>\n",
       "      <th>Att97</th>\n",
       "      <th>Att98</th>\n",
       "      <th>Att99</th>\n",
       "      <th>Att100</th>\n",
       "      <th>Att101</th>\n",
       "      <th>Att102</th>\n",
       "      <th>Att103</th>\n",
       "    </tr>\n",
       "  </thead>\n",
       "  <tbody>\n",
       "    <tr>\n",
       "      <td>count</td>\n",
       "      <td>2417.000000</td>\n",
       "      <td>2417.000000</td>\n",
       "      <td>2417.000000</td>\n",
       "      <td>2417.000000</td>\n",
       "      <td>2417.000000</td>\n",
       "      <td>2417.000000</td>\n",
       "      <td>2417.000000</td>\n",
       "      <td>2417.000000</td>\n",
       "      <td>2417.000000</td>\n",
       "      <td>2417.000000</td>\n",
       "      <td>...</td>\n",
       "      <td>2417.000000</td>\n",
       "      <td>2417.000000</td>\n",
       "      <td>2417.000000</td>\n",
       "      <td>2417.000000</td>\n",
       "      <td>2417.000000</td>\n",
       "      <td>2417.000000</td>\n",
       "      <td>2417.000000</td>\n",
       "      <td>2417.000000</td>\n",
       "      <td>2417.000000</td>\n",
       "      <td>2417.000000</td>\n",
       "    </tr>\n",
       "    <tr>\n",
       "      <td>mean</td>\n",
       "      <td>0.001173</td>\n",
       "      <td>-0.000436</td>\n",
       "      <td>-0.000257</td>\n",
       "      <td>0.000265</td>\n",
       "      <td>0.001228</td>\n",
       "      <td>0.000475</td>\n",
       "      <td>0.001107</td>\n",
       "      <td>0.000420</td>\n",
       "      <td>0.001076</td>\n",
       "      <td>-0.000009</td>\n",
       "      <td>...</td>\n",
       "      <td>-0.000773</td>\n",
       "      <td>0.000464</td>\n",
       "      <td>-0.000515</td>\n",
       "      <td>0.000667</td>\n",
       "      <td>0.000324</td>\n",
       "      <td>-0.001483</td>\n",
       "      <td>-0.001047</td>\n",
       "      <td>-0.001539</td>\n",
       "      <td>0.000284</td>\n",
       "      <td>0.007605</td>\n",
       "    </tr>\n",
       "    <tr>\n",
       "      <td>std</td>\n",
       "      <td>0.097411</td>\n",
       "      <td>0.097885</td>\n",
       "      <td>0.097746</td>\n",
       "      <td>0.096969</td>\n",
       "      <td>0.096909</td>\n",
       "      <td>0.097306</td>\n",
       "      <td>0.097170</td>\n",
       "      <td>0.096803</td>\n",
       "      <td>0.096326</td>\n",
       "      <td>0.096805</td>\n",
       "      <td>...</td>\n",
       "      <td>0.093316</td>\n",
       "      <td>0.096684</td>\n",
       "      <td>0.096209</td>\n",
       "      <td>0.096635</td>\n",
       "      <td>0.096280</td>\n",
       "      <td>0.094369</td>\n",
       "      <td>0.096900</td>\n",
       "      <td>0.094211</td>\n",
       "      <td>0.093154</td>\n",
       "      <td>0.099368</td>\n",
       "    </tr>\n",
       "    <tr>\n",
       "      <td>min</td>\n",
       "      <td>-0.371146</td>\n",
       "      <td>-0.472632</td>\n",
       "      <td>-0.339195</td>\n",
       "      <td>-0.467945</td>\n",
       "      <td>-0.367044</td>\n",
       "      <td>-0.509447</td>\n",
       "      <td>-0.319928</td>\n",
       "      <td>-0.594498</td>\n",
       "      <td>-0.369712</td>\n",
       "      <td>-0.767128</td>\n",
       "      <td>...</td>\n",
       "      <td>-0.455191</td>\n",
       "      <td>-0.283594</td>\n",
       "      <td>-0.279408</td>\n",
       "      <td>-0.226420</td>\n",
       "      <td>-0.225374</td>\n",
       "      <td>-0.501572</td>\n",
       "      <td>-0.236589</td>\n",
       "      <td>-0.267052</td>\n",
       "      <td>-0.194079</td>\n",
       "      <td>-0.237752</td>\n",
       "    </tr>\n",
       "    <tr>\n",
       "      <td>25%</td>\n",
       "      <td>-0.053655</td>\n",
       "      <td>-0.058734</td>\n",
       "      <td>-0.057526</td>\n",
       "      <td>-0.057149</td>\n",
       "      <td>-0.058461</td>\n",
       "      <td>-0.060212</td>\n",
       "      <td>-0.058445</td>\n",
       "      <td>-0.062849</td>\n",
       "      <td>-0.063472</td>\n",
       "      <td>-0.065010</td>\n",
       "      <td>...</td>\n",
       "      <td>-0.054133</td>\n",
       "      <td>-0.056415</td>\n",
       "      <td>-0.056414</td>\n",
       "      <td>-0.059382</td>\n",
       "      <td>-0.058025</td>\n",
       "      <td>-0.053591</td>\n",
       "      <td>-0.063318</td>\n",
       "      <td>-0.059542</td>\n",
       "      <td>-0.054078</td>\n",
       "      <td>-0.077191</td>\n",
       "    </tr>\n",
       "    <tr>\n",
       "      <td>50%</td>\n",
       "      <td>0.003649</td>\n",
       "      <td>-0.003513</td>\n",
       "      <td>0.002892</td>\n",
       "      <td>-0.000153</td>\n",
       "      <td>0.005565</td>\n",
       "      <td>0.000321</td>\n",
       "      <td>0.006179</td>\n",
       "      <td>0.001436</td>\n",
       "      <td>0.003515</td>\n",
       "      <td>0.002432</td>\n",
       "      <td>...</td>\n",
       "      <td>-0.012893</td>\n",
       "      <td>-0.023595</td>\n",
       "      <td>-0.024313</td>\n",
       "      <td>-0.023059</td>\n",
       "      <td>-0.021942</td>\n",
       "      <td>-0.018216</td>\n",
       "      <td>-0.033623</td>\n",
       "      <td>-0.023519</td>\n",
       "      <td>-0.012007</td>\n",
       "      <td>0.022126</td>\n",
       "    </tr>\n",
       "    <tr>\n",
       "      <td>75%</td>\n",
       "      <td>0.057299</td>\n",
       "      <td>0.048047</td>\n",
       "      <td>0.061007</td>\n",
       "      <td>0.054522</td>\n",
       "      <td>0.066286</td>\n",
       "      <td>0.059908</td>\n",
       "      <td>0.068892</td>\n",
       "      <td>0.061418</td>\n",
       "      <td>0.064958</td>\n",
       "      <td>0.063096</td>\n",
       "      <td>...</td>\n",
       "      <td>0.027977</td>\n",
       "      <td>0.034937</td>\n",
       "      <td>0.036057</td>\n",
       "      <td>0.041430</td>\n",
       "      <td>0.035730</td>\n",
       "      <td>0.019583</td>\n",
       "      <td>0.038901</td>\n",
       "      <td>0.025408</td>\n",
       "      <td>0.028087</td>\n",
       "      <td>0.103185</td>\n",
       "    </tr>\n",
       "    <tr>\n",
       "      <td>max</td>\n",
       "      <td>0.520272</td>\n",
       "      <td>0.614114</td>\n",
       "      <td>0.353241</td>\n",
       "      <td>0.568960</td>\n",
       "      <td>0.307649</td>\n",
       "      <td>0.336971</td>\n",
       "      <td>0.351401</td>\n",
       "      <td>0.454591</td>\n",
       "      <td>0.419852</td>\n",
       "      <td>0.420876</td>\n",
       "      <td>...</td>\n",
       "      <td>0.609175</td>\n",
       "      <td>0.542867</td>\n",
       "      <td>0.547134</td>\n",
       "      <td>0.385928</td>\n",
       "      <td>0.540493</td>\n",
       "      <td>0.569250</td>\n",
       "      <td>0.509963</td>\n",
       "      <td>0.587358</td>\n",
       "      <td>0.700340</td>\n",
       "      <td>0.163431</td>\n",
       "    </tr>\n",
       "  </tbody>\n",
       "</table>\n",
       "<p>8 rows × 103 columns</p>\n",
       "</div>"
      ],
      "text/plain": [
       "              Att1         Att2         Att3         Att4         Att5  \\\n",
       "count  2417.000000  2417.000000  2417.000000  2417.000000  2417.000000   \n",
       "mean      0.001173    -0.000436    -0.000257     0.000265     0.001228   \n",
       "std       0.097411     0.097885     0.097746     0.096969     0.096909   \n",
       "min      -0.371146    -0.472632    -0.339195    -0.467945    -0.367044   \n",
       "25%      -0.053655    -0.058734    -0.057526    -0.057149    -0.058461   \n",
       "50%       0.003649    -0.003513     0.002892    -0.000153     0.005565   \n",
       "75%       0.057299     0.048047     0.061007     0.054522     0.066286   \n",
       "max       0.520272     0.614114     0.353241     0.568960     0.307649   \n",
       "\n",
       "              Att6         Att7         Att8         Att9        Att10  ...  \\\n",
       "count  2417.000000  2417.000000  2417.000000  2417.000000  2417.000000  ...   \n",
       "mean      0.000475     0.001107     0.000420     0.001076    -0.000009  ...   \n",
       "std       0.097306     0.097170     0.096803     0.096326     0.096805  ...   \n",
       "min      -0.509447    -0.319928    -0.594498    -0.369712    -0.767128  ...   \n",
       "25%      -0.060212    -0.058445    -0.062849    -0.063472    -0.065010  ...   \n",
       "50%       0.000321     0.006179     0.001436     0.003515     0.002432  ...   \n",
       "75%       0.059908     0.068892     0.061418     0.064958     0.063096  ...   \n",
       "max       0.336971     0.351401     0.454591     0.419852     0.420876  ...   \n",
       "\n",
       "             Att94        Att95        Att96        Att97        Att98  \\\n",
       "count  2417.000000  2417.000000  2417.000000  2417.000000  2417.000000   \n",
       "mean     -0.000773     0.000464    -0.000515     0.000667     0.000324   \n",
       "std       0.093316     0.096684     0.096209     0.096635     0.096280   \n",
       "min      -0.455191    -0.283594    -0.279408    -0.226420    -0.225374   \n",
       "25%      -0.054133    -0.056415    -0.056414    -0.059382    -0.058025   \n",
       "50%      -0.012893    -0.023595    -0.024313    -0.023059    -0.021942   \n",
       "75%       0.027977     0.034937     0.036057     0.041430     0.035730   \n",
       "max       0.609175     0.542867     0.547134     0.385928     0.540493   \n",
       "\n",
       "             Att99       Att100       Att101       Att102       Att103  \n",
       "count  2417.000000  2417.000000  2417.000000  2417.000000  2417.000000  \n",
       "mean     -0.001483    -0.001047    -0.001539     0.000284     0.007605  \n",
       "std       0.094369     0.096900     0.094211     0.093154     0.099368  \n",
       "min      -0.501572    -0.236589    -0.267052    -0.194079    -0.237752  \n",
       "25%      -0.053591    -0.063318    -0.059542    -0.054078    -0.077191  \n",
       "50%      -0.018216    -0.033623    -0.023519    -0.012007     0.022126  \n",
       "75%       0.019583     0.038901     0.025408     0.028087     0.103185  \n",
       "max       0.569250     0.509963     0.587358     0.700340     0.163431  \n",
       "\n",
       "[8 rows x 103 columns]"
      ]
     },
     "execution_count": 2,
     "metadata": {},
     "output_type": "execute_result"
    }
   ],
   "source": [
    "# Read the CSV file\n",
    "dataset = pd.read_csv('data/yeast.csv')\n",
    "print(\"Dataset.shape: \" + str(dataset.shape))\n",
    "\n",
    "# split the features-X and class labels-y\n",
    "X = dataset.iloc[:, :103]\n",
    "y = dataset.iloc[:, 103:]\n",
    "\n",
    "print(\"X.shape: \" + str(X.shape))\n",
    "display(X.head())\n",
    "print(\"y.shape: \" + str(y.shape))\n",
    "display(y.head())\n",
    "print(\"Descriptive stats:\")\n",
    "X.describe()"
   ]
  },
  {
   "cell_type": "markdown",
   "metadata": {},
   "source": [
    "### Split into Train and Test Set"
   ]
  },
  {
   "cell_type": "code",
   "execution_count": 163,
   "metadata": {
    "scrolled": true
   },
   "outputs": [
    {
     "name": "stdout",
     "output_type": "stream",
     "text": [
      "X_train.shape: (1691, 103)\n",
      "X_test.shape: (726, 103)\n",
      "y_train.shape: (1691, 14)\n",
      "y_test.shape: (726, 14)\n"
     ]
    }
   ],
   "source": [
    "# Normalise the data\n",
    "X = (X-X.min())/(X.max()-X.min())\n",
    "\n",
    "# split into train and test\n",
    "X_train, X_test, y_train, y_test = train_test_split(X, y, random_state=0, train_size=0.7)\n",
    "\n",
    "print(\"X_train.shape: \" + str(X_train.shape))\n",
    "print(\"X_test.shape: \" + str(X_test.shape))\n",
    "print(\"y_train.shape: \" + str(y_train.shape))\n",
    "print(\"y_test.shape: \" + str(y_test.shape))"
   ]
  },
  {
   "cell_type": "markdown",
   "metadata": {},
   "source": [
    "## Task 1: Implement the Binary Relevance Algorithm"
   ]
  },
  {
   "cell_type": "code",
   "execution_count": 164,
   "metadata": {},
   "outputs": [],
   "source": [
    "class BinaryRelevanceClassifier(BaseEstimator, ClassifierMixin):\n",
    "    def __init__(self, base_classifier=LogisticRegression()):\n",
    "        self.base_classifier=base_classifier\n",
    "\n",
    "    def fit(self, X, y):\n",
    "        \"\"\"Build a Binary Relevance classifier from the training set (X, y).\n",
    "        Parameters\n",
    "        ----------\n",
    "        X : array-like or sparse matrix, shape = [n_samples, n_features]\n",
    "            The training input samples. Internally, it will be converted to\n",
    "            ``dtype=np.float32`` and if a sparse matrix is provided\n",
    "            to a sparse ``csc_matrix``.\n",
    "        y : array-like, shape = [n_samples, n_labels] \n",
    "            The target values (class labels) as integers or strings.\n",
    "        \"\"\"\n",
    "\n",
    "        # list of individual classifiers\n",
    "        self.models = []\n",
    "       \n",
    "        # for every class label\n",
    "        for label in list(y.columns):\n",
    "            # Check that X and y have correct shape\n",
    "            x_checked, y_checked = check_X_y(X, y[label])\n",
    "            # every classifier is independent of the others\n",
    "            # hence we create a copy of the base classifier instance\n",
    "            base_model = clone(self.base_classifier)\n",
    "            # fit the base model - one model each for Y1, Y2....Y14\n",
    "            basel_model = base_model.fit(x_checked, y_checked)\n",
    "            # add the fitted model list of individual classifiers\n",
    "            self.models.append(base_model)\n",
    "\n",
    "    # The predict function to make a set of predictions for a set of query instances\n",
    "    def predict(self, X):\n",
    "        # check if the models list has been set up\n",
    "        check_is_fitted(self, ['models'])\n",
    "        X = check_array(X)\n",
    "        \n",
    "        all_preds = pd.DataFrame()\n",
    "        i=0\n",
    "        # list of individual classifier predictions\n",
    "        preds = []\n",
    "        \n",
    "        # predict against each fitted model - one model per label\n",
    "        for model in self.models:\n",
    "            pred = model.predict(X)\n",
    "            # add the prediction to the dataframe\n",
    "            preds.append(pd.DataFrame({'Class'+ str(i+1): pred}))\n",
    "            i+=1\n",
    "        \n",
    "        # dataframe with predictions for all class labels\n",
    "        all_preds = pd.concat(preds, axis=1)\n",
    "        # standard sklearn classifiers return predictions as numpy arrays\n",
    "        # hence convert the dataframe to a numpy array\n",
    "        return all_preds.to_numpy()\n",
    "    \n",
    "\n",
    "\n",
    "    def predict_proba(self,X):\n",
    "        # check if the models list has been set up\n",
    "        check_is_fitted(self, ['models'])\n",
    "        X = check_array(X)\n",
    "        \n",
    "        all_preds = pd.DataFrame()\n",
    "        i = 0\n",
    "        \n",
    "        for model in self.models:\n",
    "            # Call predict_proba of the each base model\n",
    "            pred = model.predict_proba(X)\n",
    "            # Add the probabilities of 1 to the dataframe\n",
    "            all_preds['Class'+str(i+1)] = [one_prob[1] for one_prob in pred]\n",
    "            i+=1\n",
    "        \n",
    "        #return probabilities\n",
    "        return all_preds.to_numpy()"
   ]
  },
  {
   "cell_type": "markdown",
   "metadata": {},
   "source": [
    "### Predictions against the test data"
   ]
  },
  {
   "cell_type": "code",
   "execution_count": 165,
   "metadata": {
    "scrolled": true
   },
   "outputs": [
    {
     "name": "stdout",
     "output_type": "stream",
     "text": [
      "y_pred.shape: (726, 14)\n"
     ]
    }
   ],
   "source": [
    "# instantiate the classifier\n",
    "br_clf = BinaryRelevanceClassifier(LogisticRegression())\n",
    "# fit\n",
    "br_clf.fit(X_train, y_train)\n",
    "# predict\n",
    "y_pred = br_clf.predict(X_test)\n",
    "print(\"y_pred.shape: \" + str(y_pred.shape))"
   ]
  },
  {
   "cell_type": "markdown",
   "metadata": {},
   "source": [
    "### Custom Accuracy Measure for Classifiers"
   ]
  },
  {
   "cell_type": "markdown",
   "metadata": {},
   "source": [
    "The Accuracy measure used here has been described in - \"A Literature Survey on Algorithms for Multi-label Learning\" by \"Mohammad S Sorower\"."
   ]
  },
  {
   "cell_type": "code",
   "execution_count": 166,
   "metadata": {},
   "outputs": [],
   "source": [
    "def accuracy_score(y_test, y_pred):\n",
    "    # y_pred is a numpy array, y_test is a dataframe\n",
    "    # to compare the two, convert to a single type\n",
    "    y_test = y_test.to_numpy()\n",
    "    \n",
    "    # shape of test and preds must be equal\n",
    "    assert y_test.shape == y_pred.shape\n",
    "    i=0\n",
    "    # list of scores for each training sample\n",
    "    scores = []\n",
    "    \n",
    "    # for each test sample\n",
    "    while i < len(y_test):\n",
    "        count=0\n",
    "        # count the number of matches in the sample\n",
    "        # y_test[i] -> row values in test set (true values)\n",
    "        # y_pred[i] -> row values in predictions set (predicted values)\n",
    "        for p, q in zip(y_test[i], y_pred[i]):\n",
    "            if p == q:\n",
    "                count += 1\n",
    "\n",
    "        # accuracy score for the sample = no. of correctly predicted labels/total no. of labels\n",
    "        scores.append(count / y_pred.shape[1])\n",
    "        i+=1 \n",
    "\n",
    "    # final accuracy = avg. accuracy over all test samples =\n",
    "    # sum of the accuracy of all training samples/no. of training samples\n",
    "    return round((sum(scores)/len(y_test)), 5)"
   ]
  },
  {
   "cell_type": "code",
   "execution_count": 167,
   "metadata": {},
   "outputs": [
    {
     "name": "stdout",
     "output_type": "stream",
     "text": [
      "Accuracy of Binary Relevance Classifier: 0.79073\n"
     ]
    }
   ],
   "source": [
    "print(\"Accuracy of Binary Relevance Classifier: \" + str(accuracy_score(y_test, y_pred)))"
   ]
  },
  {
   "cell_type": "markdown",
   "metadata": {},
   "source": [
    "### Experiment with different Base Classifiers - GridSearch"
   ]
  },
  {
   "cell_type": "code",
   "execution_count": 168,
   "metadata": {
    "scrolled": false
   },
   "outputs": [
    {
     "name": "stdout",
     "output_type": "stream",
     "text": [
      "Fitting 5 folds for each of 6 candidates, totalling 30 fits\n"
     ]
    },
    {
     "name": "stderr",
     "output_type": "stream",
     "text": [
      "[Parallel(n_jobs=-1)]: Using backend LokyBackend with 4 concurrent workers.\n",
      "[Parallel(n_jobs=-1)]: Done  30 out of  30 | elapsed:   31.5s finished\n"
     ]
    },
    {
     "name": "stdout",
     "output_type": "stream",
     "text": [
      "Best Parameters Found: \n"
     ]
    },
    {
     "data": {
      "text/plain": [
       "{'base_classifier': LogisticRegression(C=1.0, class_weight=None, dual=False, fit_intercept=True,\n",
       "                    intercept_scaling=1, l1_ratio=None, max_iter=20000,\n",
       "                    multi_class='warn', n_jobs=None, penalty='l2',\n",
       "                    random_state=None, solver='warn', tol=0.0001, verbose=0,\n",
       "                    warm_start=False)}"
      ]
     },
     "metadata": {},
     "output_type": "display_data"
    },
    {
     "data": {
      "text/plain": [
       "0.799951691306919"
      ]
     },
     "metadata": {},
     "output_type": "display_data"
    }
   ],
   "source": [
    "cv_folds=5\n",
    "\n",
    "# Set up the parameter grid to search\n",
    "param_grid ={'base_classifier': [DecisionTreeClassifier(criterion='entropy', max_depth=15, min_samples_leaf=2),\n",
    "                                 RandomForestClassifier(criterion='entropy'),\n",
    "                                 LogisticRegression(max_iter=20000), GaussianNB(), KNeighborsClassifier(), SVC()] }\n",
    "\n",
    "# Perform the search\n",
    "# Using the custom accuracy function defined earlier\n",
    "tuned_model = GridSearchCV(BinaryRelevanceClassifier(), \\\n",
    "                            param_grid, scoring=make_scorer(accuracy_score), verbose = 2, n_jobs = -1, cv=cv_folds)\n",
    "tuned_model.fit(X_train, y_train)\n",
    "\n",
    "# Print details of the best model\n",
    "print(\"Best Parameters Found: \")\n",
    "display(tuned_model.best_params_)\n",
    "display(tuned_model.best_score_)"
   ]
  },
  {
   "cell_type": "markdown",
   "metadata": {},
   "source": [
    "### Evaluate the best model against the Test Data"
   ]
  },
  {
   "cell_type": "code",
   "execution_count": 169,
   "metadata": {},
   "outputs": [
    {
     "name": "stdout",
     "output_type": "stream",
     "text": [
      "y_pred.shape: (726, 14)\n"
     ]
    }
   ],
   "source": [
    "# instantiate the classifier\n",
    "br_clf = BinaryRelevanceClassifier(LogisticRegression(max_iter=20000))\n",
    "# fit\n",
    "br_clf.fit(X_train, y_train)\n",
    "# predict\n",
    "y_pred = br_clf.predict(X_test)\n",
    "print(\"y_pred.shape: \" + str(y_pred.shape))"
   ]
  },
  {
   "cell_type": "code",
   "execution_count": 170,
   "metadata": {},
   "outputs": [
    {
     "name": "stdout",
     "output_type": "stream",
     "text": [
      "Accuracy of Binary Relevance Classifier - Best Model: 0.79073\n"
     ]
    }
   ],
   "source": [
    "print(\"Accuracy of Binary Relevance Classifier - Best Model: \" + str(accuracy_score(y_test, y_pred)))"
   ]
  },
  {
   "cell_type": "markdown",
   "metadata": {},
   "source": [
    "## Task 2: Implement the Binary Relevance Algorithm with Under-Sampling"
   ]
  },
  {
   "cell_type": "code",
   "execution_count": 171,
   "metadata": {},
   "outputs": [],
   "source": [
    "class BinaryRelevanceClassifierUS(BaseEstimator, ClassifierMixin):\n",
    "    def __init__(self, base_classifier=LogisticRegression(max_iter=20000)):\n",
    "        self.base_classifier=base_classifier\n",
    "\n",
    "    def fit(self, X, y):\n",
    "        \"\"\"Build a Binary Relevance classifier with Under sampling from the training set (X, y).\n",
    "        Parameters\n",
    "        ----------\n",
    "        X : array-like or sparse matrix, shape = [n_samples, n_features]\n",
    "            The training input samples. Internally, it will be converted to\n",
    "            ``dtype=np.float32`` and if a sparse matrix is provided\n",
    "            to a sparse ``csc_matrix``.\n",
    "        y : array-like, shape = [n_samples] \n",
    "            The target values (class labels) as integers or strings.\n",
    "        \"\"\"\n",
    "\n",
    "        # list of individual classifiers\n",
    "        self.models = []\n",
    "        \n",
    "        # for each class label\n",
    "        for label in list(y.columns):\n",
    "            \n",
    "            X_cp = X.copy()\n",
    "            # pick the column values for the label\n",
    "            y_cp = y[label]\n",
    "            \n",
    "            # sampling is done on both X and y, hence join the two dataframes\n",
    "            X_y_data = pd.concat([X_cp, y_cp], axis=1)\n",
    "            \n",
    "            # counters for 0 values and 1 values\n",
    "            n_val0, n_val1 = 0,0\n",
    "            \n",
    "            j=0\n",
    "            # for each sample\n",
    "            while j<len(X_y_data):\n",
    "                # if value for the label is 0\n",
    "                if(X_y_data.iloc[j][label] == 0):\n",
    "                    n_val0+=1\n",
    "                else:\n",
    "                    # value 1\n",
    "                    n_val1+=1\n",
    "                j+=1\n",
    "            \n",
    "            # under sample the majority class\n",
    "            # randomly pick samples from majority class equal to the number of samples in the minority class\n",
    "            # both the classes will have the same number of samples\n",
    "            if n_val0 > n_val1:\n",
    "                # majority 0 values\n",
    "                val1 = X_y_data[X_y_data[label]==1]\n",
    "                val0 = X_y_data[X_y_data[label]==0].sample(n_val1)\n",
    "                \n",
    "                X_y_data = pd.concat([val0, val1], axis=0)\n",
    "            \n",
    "            elif n_val1 > n_val0:\n",
    "                # majority 1 values\n",
    "                val1 = X_y_data[X_y_data[label]==1].sample(n_val0)\n",
    "                val0 = X_y_data[X_y_data[label]==0]\n",
    "                \n",
    "                X_y_data = pd.concat([val0, val1], axis=0)\n",
    "            \n",
    "            # split back into X and y\n",
    "            X_cp = X_y_data.iloc[:, :-1]\n",
    "            y_cp = X_y_data.iloc[:, -1]\n",
    "            \n",
    "            base_model = clone(self.base_classifier)\n",
    "            # fit the base model - one model each for Y1, Y2....Y14\n",
    "            a, b = check_X_y(X_cp, y_cp)\n",
    "            base_model.fit(a, b)\n",
    "            # list of individual classifiers classifiers\n",
    "            self.models.append(base_model)\n",
    "\n",
    "\n",
    "    # The predict function to make a set of predictions for a set of query instances\n",
    "    def predict(self, X):\n",
    "        # check if the models list has been set up\n",
    "        check_is_fitted(self, ['models'])\n",
    "        X = check_array(X)\n",
    "        \n",
    "        all_preds = pd.DataFrame()\n",
    "        i=0\n",
    "        # list of individual classifier predictions\n",
    "        preds = []\n",
    "        \n",
    "        # for every fitted model\n",
    "        for model in self.models:\n",
    "            # predict for X\n",
    "            pred = model.predict(X)\n",
    "            # add to the list of predictions\n",
    "            preds.append(pd.DataFrame({'Class'+ str(i+1): pred}))\n",
    "            i+=1\n",
    "        \n",
    "        # store predictions for each label in a single dataframe\n",
    "        all_preds = pd.concat(preds, axis=1)\n",
    "        # standard sklearn classifiers return predictions as numpy arrays\n",
    "        # hence convert the dataframe to a numpy array\n",
    "        return all_preds.to_numpy()\n",
    "    \n",
    "    \n",
    "    def predict_proba(self,X):\n",
    "        # check if the models list has been set up\n",
    "        check_is_fitted(self, ['models'])\n",
    "        X = check_array(X)\n",
    "        \n",
    "        all_preds = pd.DataFrame()\n",
    "        i = 0\n",
    "        \n",
    "        for model in self.models:\n",
    "            # Call predict_proba of the each base model\n",
    "            pred = model.predict_proba(X)\n",
    "            # Add the probabilities of 1 to the dataframe\n",
    "            all_preds['Class'+str(i+1)] = [one_prob[1] for one_prob in pred]\n",
    "            i+=1\n",
    "        \n",
    "        #return probabilities\n",
    "        return all_preds.to_numpy()"
   ]
  },
  {
   "cell_type": "markdown",
   "metadata": {},
   "source": [
    "### Prediction against the Test Data"
   ]
  },
  {
   "cell_type": "code",
   "execution_count": 172,
   "metadata": {},
   "outputs": [
    {
     "name": "stdout",
     "output_type": "stream",
     "text": [
      "y_pred.shape=(726, 14)\n"
     ]
    }
   ],
   "source": [
    "brus_clf = BinaryRelevanceClassifierUS()\n",
    "# fit\n",
    "brus_clf.fit(X_train, y_train)\n",
    "# predict\n",
    "y_pred = brus_clf.predict(X_test)\n",
    "print(\"y_pred.shape=\" + str(y_pred.shape))"
   ]
  },
  {
   "cell_type": "markdown",
   "metadata": {},
   "source": [
    "### Calculate the Accuracy"
   ]
  },
  {
   "cell_type": "code",
   "execution_count": 173,
   "metadata": {},
   "outputs": [
    {
     "name": "stdout",
     "output_type": "stream",
     "text": [
      "Accuracy of Binary Relevance Classifier with Under-sampling: 0.62584\n"
     ]
    }
   ],
   "source": [
    "accuracy = accuracy_score(y_test, y_pred)\n",
    "print(\"Accuracy of Binary Relevance Classifier with Under-sampling: \" + str(accuracy))"
   ]
  },
  {
   "cell_type": "markdown",
   "metadata": {},
   "source": [
    "### Experiment with different Base Classifiers - GridSearch"
   ]
  },
  {
   "cell_type": "code",
   "execution_count": 174,
   "metadata": {},
   "outputs": [
    {
     "name": "stdout",
     "output_type": "stream",
     "text": [
      "Fitting 5 folds for each of 6 candidates, totalling 30 fits\n"
     ]
    },
    {
     "name": "stderr",
     "output_type": "stream",
     "text": [
      "[Parallel(n_jobs=-1)]: Using backend LokyBackend with 4 concurrent workers.\n",
      "[Parallel(n_jobs=-1)]: Done  30 out of  30 | elapsed:  1.5min finished\n"
     ]
    },
    {
     "name": "stdout",
     "output_type": "stream",
     "text": [
      "Best Parameters Found: \n"
     ]
    },
    {
     "data": {
      "text/plain": [
       "{'base_classifier': RandomForestClassifier(bootstrap=True, class_weight=None, criterion='entropy',\n",
       "                        max_depth=None, max_features='auto', max_leaf_nodes=None,\n",
       "                        min_impurity_decrease=0.0, min_impurity_split=None,\n",
       "                        min_samples_leaf=1, min_samples_split=2,\n",
       "                        min_weight_fraction_leaf=0.0, n_estimators='warn',\n",
       "                        n_jobs=None, oob_score=False, random_state=None,\n",
       "                        verbose=0, warm_start=False)}"
      ]
     },
     "metadata": {},
     "output_type": "display_data"
    },
    {
     "data": {
      "text/plain": [
       "0.6374084979302187"
      ]
     },
     "metadata": {},
     "output_type": "display_data"
    }
   ],
   "source": [
    "cv_folds=5\n",
    "\n",
    "# Set up the parameter grid to search\n",
    "param_grid ={'base_classifier': [DecisionTreeClassifier(criterion='entropy', max_depth=15, min_samples_leaf=2),\n",
    "                                 RandomForestClassifier(criterion='entropy'),\n",
    "                                 LogisticRegression(max_iter=20000), GaussianNB(), KNeighborsClassifier(), SVC()] }\n",
    "\n",
    "# Perform the search\n",
    "tuned_model = GridSearchCV(BinaryRelevanceClassifierUS(), \\\n",
    "                            param_grid, scoring=make_scorer(accuracy_score), verbose = 2, n_jobs = -1, cv=cv_folds)\n",
    "tuned_model.fit(X_train, y_train)\n",
    "\n",
    "# Print details\n",
    "print(\"Best Parameters Found: \")\n",
    "display(tuned_model.best_params_)\n",
    "display(tuned_model.best_score_)"
   ]
  },
  {
   "cell_type": "markdown",
   "metadata": {},
   "source": [
    "### Evaluate the best model against the Test Data"
   ]
  },
  {
   "cell_type": "code",
   "execution_count": 175,
   "metadata": {},
   "outputs": [
    {
     "name": "stdout",
     "output_type": "stream",
     "text": [
      "y_pred.shape=(726, 14)\n"
     ]
    }
   ],
   "source": [
    "brus_clf = BinaryRelevanceClassifierUS(RandomForestClassifier(criterion='entropy'))\n",
    "# fit\n",
    "brus_clf.fit(X_train, y_train)\n",
    "# predict\n",
    "y_pred = brus_clf.predict(X_test)\n",
    "print(\"y_pred.shape=\" + str(y_pred.shape))"
   ]
  },
  {
   "cell_type": "code",
   "execution_count": 176,
   "metadata": {},
   "outputs": [
    {
     "name": "stdout",
     "output_type": "stream",
     "text": [
      "Accuracy of Binary Relevance Classifier with Under-sampling - Best Model: 0.64856\n"
     ]
    }
   ],
   "source": [
    "accuracy = accuracy_score(y_test, y_pred)\n",
    "print(\"Accuracy of Binary Relevance Classifier with Under-sampling - Best Model: \" + str(accuracy))"
   ]
  },
  {
   "cell_type": "markdown",
   "metadata": {},
   "source": [
    "## Task 3: Compare the Performance of Different Binary Relevance Approaches"
   ]
  },
  {
   "cell_type": "markdown",
   "metadata": {},
   "source": [
    "### Accuracy and F-1 Scores"
   ]
  },
  {
   "cell_type": "code",
   "execution_count": 177,
   "metadata": {},
   "outputs": [
    {
     "name": "stdout",
     "output_type": "stream",
     "text": [
      "===================Accuracy Scores=====================\n",
      "Binary Relevance\n"
     ]
    },
    {
     "data": {
      "text/plain": [
       "{'Decision Tree': 0.72845,\n",
       " 'Random Forest': 0.78817,\n",
       " 'Logistic Regression': 0.79073,\n",
       " 'GaussianNB': 0.70268,\n",
       " 'kNN': 0.78975,\n",
       " 'SVM': 0.77893}"
      ]
     },
     "metadata": {},
     "output_type": "display_data"
    },
    {
     "name": "stdout",
     "output_type": "stream",
     "text": [
      "Binary Relevance with Under-Sampling\n"
     ]
    },
    {
     "data": {
      "text/plain": [
       "{'Decision Tree': 0.58392,\n",
       " 'Random Forest': 0.64482,\n",
       " 'Logistic Regression': 0.62997,\n",
       " 'GaussianNB': 0.61196,\n",
       " 'kNN': 0.63243,\n",
       " 'SVM': 0.5671}"
      ]
     },
     "metadata": {},
     "output_type": "display_data"
    },
    {
     "name": "stdout",
     "output_type": "stream",
     "text": [
      "======================F1 Scores========================\n",
      "Binary Relevance\n"
     ]
    },
    {
     "data": {
      "text/plain": [
       "{'Decision Tree': 0.39125767994484223,\n",
       " 'Random Forest': 0.34573811112703584,\n",
       " 'Logistic Regression': 0.343975003895816,\n",
       " 'GaussianNB': 0.4441966958169542,\n",
       " 'kNN': 0.42152433224517327,\n",
       " 'SVM': 0.19093646991285598}"
      ]
     },
     "metadata": {},
     "output_type": "display_data"
    },
    {
     "name": "stdout",
     "output_type": "stream",
     "text": [
      "Binary Relevance with Under-Sampling\n"
     ]
    },
    {
     "data": {
      "text/plain": [
       "{'Decision Tree': 0.38810897756820945,\n",
       " 'Random Forest': 0.4031524704019302,\n",
       " 'Logistic Regression': 0.4409926522752094,\n",
       " 'GaussianNB': 0.4374084595299819,\n",
       " 'kNN': 0.4584384830288687,\n",
       " 'SVM': 0.40455807802540894}"
      ]
     },
     "metadata": {},
     "output_type": "display_data"
    }
   ],
   "source": [
    "# list of base models\n",
    "base_models = [DecisionTreeClassifier(criterion='entropy', max_depth=15, min_samples_leaf=2),\n",
    "               RandomForestClassifier(criterion='entropy'),\n",
    "               LogisticRegression(max_iter=20000), GaussianNB(), KNeighborsClassifier(), SVC()]\n",
    "base_model_names = [\"Decision Tree\", \"Random Forest\", \"Logistic Regression\", \"GaussianNB\", \"kNN\", \"SVM\"]\n",
    "\n",
    "# store accuracy scores\n",
    "br_clf_accuracies = dict()\n",
    "br_clfus_accuracies = dict()\n",
    "\n",
    "# store F1 scores\n",
    "br_clf_f1 = dict()\n",
    "br_clfus_f1 = dict()\n",
    "\n",
    "i=0\n",
    "for clf in base_models:\n",
    "    # without undersampling\n",
    "    br_clf = BinaryRelevanceClassifier(clf)\n",
    "    br_clf.fit(X_train, y_train)\n",
    "    br_y_pred = br_clf.predict(X_test)\n",
    "\n",
    "    # find accuracy using custom accuracy function defined\n",
    "    accuracy = accuracy_score(y_test, br_y_pred)\n",
    "    br_clf_accuracies[base_model_names[i]] = accuracy\n",
    "\n",
    "    # find f1 score using sklearn\n",
    "    y_pred_df = pd.DataFrame(br_y_pred)\n",
    "    f1_score_br = metrics.f1_score(y_test, y_pred_df, average='macro')\n",
    "    br_clf_f1[base_model_names[i]] = f1_score_br\n",
    "\n",
    "    \n",
    "    # with undersampling\n",
    "    brus_clf = BinaryRelevanceClassifierUS(clf)\n",
    "    brus_clf.fit(X_train, y_train)\n",
    "    brus_y_pred = brus_clf.predict(X_test)\n",
    "    \n",
    "    # find accuracy using custom accuracy function defined\n",
    "    accuracy_us = accuracy_score(y_test, brus_y_pred)\n",
    "    br_clfus_accuracies[base_model_names[i]] = accuracy_us\n",
    "    \n",
    "    # find f1 score using sklearn\n",
    "    y_pred_df = pd.DataFrame(brus_y_pred)\n",
    "    f1_score_us = metrics.f1_score(y_test, y_pred_df, average='macro')\n",
    "    br_clfus_f1[base_model_names[i]] = f1_score_us\n",
    "    \n",
    "    i+=1\n",
    "\n",
    "print(\"===================Accuracy Scores=====================\")\n",
    "print(\"Binary Relevance\")\n",
    "display(br_clf_accuracies)\n",
    "print(\"Binary Relevance with Under-Sampling\")\n",
    "display(br_clfus_accuracies)\n",
    "\n",
    "print(\"======================F1 Scores========================\")\n",
    "print(\"Binary Relevance\")\n",
    "display(br_clf_f1)\n",
    "print(\"Binary Relevance with Under-Sampling\")\n",
    "display(br_clfus_f1)"
   ]
  },
  {
   "cell_type": "markdown",
   "metadata": {},
   "source": [
    "### Plot the Accuracy  Scores"
   ]
  },
  {
   "cell_type": "code",
   "execution_count": 178,
   "metadata": {},
   "outputs": [
    {
     "data": {
      "text/plain": [
       "<matplotlib.legend.Legend at 0x21d806b2708>"
      ]
     },
     "execution_count": 178,
     "metadata": {},
     "output_type": "execute_result"
    },
    {
     "data": {
      "image/png": "[encoded data removed]",
      "text/plain": [
       "<Figure size 432x288 with 1 Axes>"
      ]
     },
     "metadata": {
      "needs_background": "light"
     },
     "output_type": "display_data"
    }
   ],
   "source": [
    "plt.plot(list(br_clf_accuracies.keys()), list(br_clf_accuracies.values()))\n",
    "plt.plot(list(br_clfus_accuracies.keys()), list(br_clfus_accuracies.values()))\n",
    "plt.xticks(rotation=90)\n",
    "plt.legend(['Binary Relevance','Binary Relevance Under-Sampling'])"
   ]
  },
  {
   "cell_type": "markdown",
   "metadata": {},
   "source": [
    "### Plot the F-1 Scores"
   ]
  },
  {
   "cell_type": "code",
   "execution_count": 179,
   "metadata": {},
   "outputs": [
    {
     "data": {
      "text/plain": [
       "<matplotlib.legend.Legend at 0x21d801525c8>"
      ]
     },
     "execution_count": 179,
     "metadata": {},
     "output_type": "execute_result"
    },
    {
     "data": {
      "image/png": "[encoded data removed]",
      "text/plain": [
       "<Figure size 432x288 with 1 Axes>"
      ]
     },
     "metadata": {
      "needs_background": "light"
     },
     "output_type": "display_data"
    }
   ],
   "source": [
    "plt.plot(list(br_clf_f1.keys()), list(br_clf_f1.values()))\n",
    "plt.plot(list(br_clfus_f1.keys()), list(br_clfus_f1.values()))\n",
    "plt.xticks(rotation=90)\n",
    "plt.legend(['Binary Relevance','Binary Relevance Under-Sampling'])"
   ]
  },
  {
   "cell_type": "markdown",
   "metadata": {},
   "source": [
    "## Task 4: Implement the Classifier Chains Algorithm"
   ]
  },
  {
   "cell_type": "code",
   "execution_count": 180,
   "metadata": {},
   "outputs": [],
   "source": [
    "class ClassifierChains(BaseEstimator, ClassifierMixin):\n",
    "    def __init__(self, base_classifier=LogisticRegression(max_iter=20000), order=None):\n",
    "        self.base_classifier=base_classifier\n",
    "        self.order = order\n",
    "\n",
    "    def fit(self, X, y):\n",
    "        \"\"\"\n",
    "        Build a Classifier Chain from the training set (X, y).\n",
    "        Parameters\n",
    "        ----------\n",
    "        X : array-like or sparse matrix, shape = [n_samples, n_features]\n",
    "            The training input samples. Internally, it will be converted to\n",
    "            ``dtype=np.float32`` and if a sparse matrix is provided\n",
    "            to a sparse ``csc_matrix``.\n",
    "        y : array-like, shape = [n_samples, n_labels] \n",
    "            The target values (class labels) as integers or strings.\n",
    "\n",
    "        \"\"\"\n",
    "        \n",
    "        # check the order parameter\n",
    "        if self.order is None:\n",
    "            # default value - natural order for number of labels\n",
    "            self.order = list(range(y.shape[1]))\n",
    "        elif self.order == 'random':\n",
    "            # random order\n",
    "            self.order = list(range(y.shape[1]))\n",
    "            random.shuffle(self.order)\n",
    "        else:\n",
    "            # order specified\n",
    "            if(len(self.order)==y.shape[1]):\n",
    "                # expect order from 1, hence reduce 1 to consider zero indexing\n",
    "                self.order = [o - 1 for o in self.order]\n",
    "    \n",
    "        \n",
    "        # list of base models for each class\n",
    "        self.models = [clone(self.base_classifier) for clf in range(y.shape[1])]\n",
    "\n",
    "        # create a copy of X\n",
    "        X_joined = X.copy()\n",
    "       # X_joined.reset_index(drop=True, inplace=True)\n",
    "        \n",
    "        # create a new dataframe with X and y-in the order specified\n",
    "        # if order = [2,4,5,6...] -> X_joined= X, y2, y4, y5...\n",
    "        for val in self.order:\n",
    "            X_joined = pd.concat([X_joined, y['Class'+str(val+1)]], axis=1)\n",
    "\n",
    "        \n",
    "        # for each ith model, fit the model on X + y0 to yi-1 (in the order specified)\n",
    "        # if order = [2,4,6,....] fit 1st model on X for y2, fit second model on X+y2 for y4...\n",
    "        for chain_index, model in enumerate(self.models):\n",
    "            # select values of the class in order\n",
    "            y_vals = y.loc[:, 'Class'+str(self.order[chain_index]+1)]\n",
    "            # pick values for training - X+y upto the current label\n",
    "            t_X = X_joined.iloc[:, :(X.shape[1]+chain_index)]\n",
    "            check_X_y(t_X, y_vals)\n",
    "            # fit the model\n",
    "            model.fit(t_X, y_vals)\n",
    "\n",
    "\n",
    "            \n",
    "    # The predict function to make a set of predictions for a set of query instances\n",
    "    def predict(self, X):\n",
    "        \n",
    "        # check if the models list has been set up\n",
    "        check_is_fitted(self, ['models'])\n",
    "        \n",
    "        # dataframe to maintain previous predictions\n",
    "        pred_chain = pd.DataFrame(columns=['Class'+str(o+1) for o in self.order])\n",
    "        \n",
    "        X_copy = X.copy()\n",
    "        X_joined = X.copy()\n",
    "        \n",
    "        # use default indexing\n",
    "        X_joined.reset_index(drop=True, inplace=True)\n",
    "        X_copy.reset_index(drop=True, inplace=True)\n",
    "\n",
    "        i=0\n",
    "        \n",
    "        # for each ith model, predict based on X + predictions of all models upto i-1\n",
    "        # happens in the specified order since models are already fitted according to the order\n",
    "        for chain_index, model in enumerate(self.models):\n",
    "            # select previous predictions - all columns upto the current index\n",
    "            prev_preds = pred_chain.iloc[:, :chain_index]\n",
    "            # join the previous predictions with X\n",
    "            X_joined = pd.concat([X_copy, prev_preds], axis=1)\n",
    "            # predict on the base model\n",
    "            pred = model.predict(X_joined)\n",
    "            # add the new prediction to the pred chain\n",
    "            pred_chain['Class'+str(self.order[i]+1)] = pred\n",
    "            i+=1\n",
    "\n",
    "        # re-arrange the columns in natural order to return the predictions\n",
    "        pred_chain = pred_chain.loc[:, ['Class'+str(j+1) for j in range(0, len(self.order))]]\n",
    "        # all sklearn implementations return numpy array\n",
    "        # hence convert the dataframe to numpy array\n",
    "        return pred_chain.to_numpy()\n",
    "    \n",
    "    \n",
    "    \n",
    "    # Function to predict probabilities of 1s\n",
    "    def predict_proba(self, X):\n",
    "        # check if the models list has been set up\n",
    "        check_is_fitted(self, ['models'])\n",
    "        \n",
    "        # dataframe to maintain previous predictions\n",
    "        pred_chain = pd.DataFrame(columns=['Class'+str(o+1) for o in self.order])\n",
    "        # dataframe to maintain probabilities of class labels\n",
    "        pred_probs = pd.DataFrame(columns=['Class'+str(o+1) for o in self.order])\n",
    "        X_copy = X.copy()\n",
    "        X_joined = X.copy()\n",
    "        \n",
    "        # use default indexing\n",
    "        X_joined.reset_index(drop=True, inplace=True)\n",
    "        X_copy.reset_index(drop=True, inplace=True)\n",
    "\n",
    "        i=0\n",
    "        \n",
    "        # for each ith model, predict based on X + predictions of all models upto i-1\n",
    "        # happens in the specified order since models are already fitted according to the order\n",
    "        for chain_index, model in enumerate(self.models):\n",
    "            \n",
    "            # select previous predictions - all columns upto the current index\n",
    "            prev_preds = pred_chain.iloc[:, :chain_index]\n",
    "            # join the previous predictions with X\n",
    "            X_joined = pd.concat([X_copy, prev_preds], axis=1)\n",
    "            # predict on the base model\n",
    "            pred = model.predict(X_joined)\n",
    "            # predict probabilities\n",
    "            pred_proba = model.predict_proba(X_joined)\n",
    "            # add the new prediction to the pred chain\n",
    "            pred_chain['Class'+str(self.order[i]+1)] = pred\n",
    "            # save the probabilities of 1 according to label order\n",
    "            pred_probs['Class'+str(self.order[i]+1)] = [one_prob[1] for one_prob in pred_proba]\n",
    "            i+=1\n",
    "\n",
    "        # re-arrange the columns in natural order to return the probabilities\n",
    "        pred_probs = pred_probs.loc[:, ['Class'+str(j+1) for j in range(0, len(self.order))]]\n",
    "        # all sklearn implementations return numpy array\n",
    "        # hence convert the dataframe to numpy array\n",
    "        return pred_probs.to_numpy()"
   ]
  },
  {
   "cell_type": "markdown",
   "metadata": {},
   "source": [
    "### Predictions against the Test data"
   ]
  },
  {
   "cell_type": "code",
   "execution_count": 181,
   "metadata": {},
   "outputs": [],
   "source": [
    "cc = ClassifierChains(order=[1,2,3,4,5,6,7,8,9,10,11,12,13,14])\n",
    "# fit\n",
    "cc.fit(X_train, y_train)"
   ]
  },
  {
   "cell_type": "code",
   "execution_count": 182,
   "metadata": {},
   "outputs": [],
   "source": [
    "# predict\n",
    "cc_pred = cc.predict(X_test)"
   ]
  },
  {
   "cell_type": "markdown",
   "metadata": {},
   "source": [
    "### Calculate the Accuracy"
   ]
  },
  {
   "cell_type": "code",
   "execution_count": 183,
   "metadata": {},
   "outputs": [
    {
     "name": "stdout",
     "output_type": "stream",
     "text": [
      "Accuracy of Classifier Chains: 0.78424\n"
     ]
    }
   ],
   "source": [
    "print(\"Accuracy of Classifier Chains: \" + str(accuracy_score(y_test, cc_pred)))"
   ]
  },
  {
   "cell_type": "markdown",
   "metadata": {},
   "source": [
    "### Experiment with different Base Classifiers - GridSearch"
   ]
  },
  {
   "cell_type": "code",
   "execution_count": 184,
   "metadata": {},
   "outputs": [
    {
     "name": "stdout",
     "output_type": "stream",
     "text": [
      "Fitting 5 folds for each of 120 candidates, totalling 600 fits\n"
     ]
    },
    {
     "name": "stderr",
     "output_type": "stream",
     "text": [
      "[Parallel(n_jobs=-1)]: Using backend LokyBackend with 4 concurrent workers.\n",
      "[Parallel(n_jobs=-1)]: Done  33 tasks      | elapsed:   49.1s\n",
      "[Parallel(n_jobs=-1)]: Done 154 tasks      | elapsed:  3.4min\n",
      "[Parallel(n_jobs=-1)]: Done 357 tasks      | elapsed:  5.2min\n",
      "[Parallel(n_jobs=-1)]: Done 600 out of 600 | elapsed:  9.7min finished\n"
     ]
    },
    {
     "name": "stdout",
     "output_type": "stream",
     "text": [
      "Best Parameters Found: \n"
     ]
    },
    {
     "data": {
      "text/plain": [
       "{'base_classifier': LogisticRegression(C=1.0, class_weight=None, dual=False, fit_intercept=True,\n",
       "                    intercept_scaling=1, l1_ratio=None, max_iter=20000,\n",
       "                    multi_class='warn', n_jobs=None, penalty='l2',\n",
       "                    random_state=None, solver='warn', tol=0.0001, verbose=0,\n",
       "                    warm_start=False),\n",
       " 'order': [11, 4, 10, 1, 9, 5, 3, 12, 6, 8, 2, 7, 13, 14]}"
      ]
     },
     "metadata": {},
     "output_type": "display_data"
    },
    {
     "data": {
      "text/plain": [
       "0.7951338024837374"
      ]
     },
     "metadata": {},
     "output_type": "display_data"
    }
   ],
   "source": [
    "cv_folds=5\n",
    "\n",
    "# generate 20 random orders for class labels \n",
    "rand_orders = [list(range(1, y_test.shape[1]+1)) for i in list(range(1, 20))]\n",
    "\n",
    "for lst in rand_orders:\n",
    "    random.shuffle(lst)\n",
    "\n",
    "# make sure natural order is present\n",
    "rand_orders.append([1,2,3,4,5,6,7,8,9,10,11,12,13,14])\n",
    "\n",
    "# Set up the parameter grid to search\n",
    "param_grid ={'base_classifier': [DecisionTreeClassifier(criterion='entropy', max_depth=15, min_samples_leaf=2),\n",
    "                                 RandomForestClassifier(criterion='entropy'),\n",
    "                                 LogisticRegression(max_iter=20000), GaussianNB(), KNeighborsClassifier(), SVC()],\n",
    "            'order': rand_orders}\n",
    "\n",
    "# Perform the search\n",
    "tuned_model = GridSearchCV(ClassifierChains(), \\\n",
    "                            param_grid, scoring=make_scorer(accuracy_score), verbose = 2, n_jobs = -1, cv=cv_folds)\n",
    "tuned_model.fit(X_train, y_train)\n",
    "\n",
    "# Print details\n",
    "print(\"Best Parameters Found: \")\n",
    "display(tuned_model.best_params_)\n",
    "display(tuned_model.best_score_)"
   ]
  },
  {
   "cell_type": "code",
   "execution_count": 197,
   "metadata": {},
   "outputs": [],
   "source": [
    "# store the best parameters\n",
    "best = tuned_model.best_params_"
   ]
  },
  {
   "cell_type": "markdown",
   "metadata": {},
   "source": [
    "### Evaluate the best model against the Test Data"
   ]
  },
  {
   "cell_type": "code",
   "execution_count": 198,
   "metadata": {},
   "outputs": [],
   "source": [
    "cc = ClassifierChains(base_classifier=best['base_classifier'], order=best['order'])\n",
    "cc.fit(X_train, y_train)"
   ]
  },
  {
   "cell_type": "code",
   "execution_count": 199,
   "metadata": {},
   "outputs": [],
   "source": [
    "cc_pred = cc.predict(X_test)"
   ]
  },
  {
   "cell_type": "code",
   "execution_count": 200,
   "metadata": {},
   "outputs": [
    {
     "name": "stdout",
     "output_type": "stream",
     "text": [
      "Accuracy of Classifier Chains - Best Model: 0.78847\n"
     ]
    }
   ],
   "source": [
    "print(\"Accuracy of Classifier Chains - Best Model: \" + str(accuracy_score(y_test, cc_pred)))"
   ]
  },
  {
   "cell_type": "markdown",
   "metadata": {},
   "source": [
    "## Task 5: Evaluate the Performance of the Classifier Chains Algorithm"
   ]
  },
  {
   "cell_type": "markdown",
   "metadata": {},
   "source": [
    "### Accuracy and F1 Scores of Classifier Chains"
   ]
  },
  {
   "cell_type": "code",
   "execution_count": 204,
   "metadata": {},
   "outputs": [
    {
     "name": "stdout",
     "output_type": "stream",
     "text": [
      "====================Classifier Chains Accuracy====================\n"
     ]
    },
    {
     "data": {
      "text/plain": [
       "{'Decision Tree': 0.72137,\n",
       " 'Random Forest': 0.79113,\n",
       " 'Logistic Regression': 0.78847,\n",
       " 'GaussianNB': 0.68939,\n",
       " 'kNN': 0.78394,\n",
       " 'SVM': 0.77588}"
      ]
     },
     "metadata": {},
     "output_type": "display_data"
    },
    {
     "name": "stdout",
     "output_type": "stream",
     "text": [
      "===================Classifier Chains F1 Scores====================\n"
     ]
    },
    {
     "data": {
      "text/plain": [
       "{'Decision Tree': 0.38906778855908924,\n",
       " 'Random Forest': 0.3609104334374137,\n",
       " 'Logistic Regression': 0.3846810487809151,\n",
       " 'GaussianNB': 0.43195691283452253,\n",
       " 'kNN': 0.4175588720744822,\n",
       " 'SVM': 0.23331639887751227}"
      ]
     },
     "metadata": {},
     "output_type": "display_data"
    }
   ],
   "source": [
    "# list of base models\n",
    "base_models = [DecisionTreeClassifier(criterion='entropy', max_depth=15, min_samples_leaf=2),\n",
    "               RandomForestClassifier(criterion='entropy'),\n",
    "               LogisticRegression(max_iter=20000), GaussianNB(), KNeighborsClassifier(), SVC()]\n",
    "base_model_names = [\"Decision Tree\", \"Random Forest\", \"Logistic Regression\", \"GaussianNB\", \"kNN\", \"SVM\"]\n",
    "\n",
    "cc_accuracies = dict()\n",
    "cc_f1 = dict()\n",
    "\n",
    "i=0\n",
    "for clf in base_models:\n",
    "    cc = ClassifierChains(clf, order=best['order'])\n",
    "    cc.fit(X_train, y_train)\n",
    "    cc_pred = cc.predict(X_test)\n",
    "    # accuracy score\n",
    "    accuracy = accuracy_score(y_test, cc_pred)\n",
    "    cc_accuracies[base_model_names[i]] = accuracy\n",
    "    # F1 score\n",
    "    cc_f1_score = metrics.f1_score(y_test, pd.DataFrame(cc_pred), average='macro')\n",
    "    cc_f1[base_model_names[i]] = cc_f1_score\n",
    "    i+=1\n",
    "\n",
    "print(\"====================Classifier Chains Accuracy====================\")\n",
    "display(cc_accuracies)\n",
    "print(\"===================Classifier Chains F1 Scores====================\")\n",
    "display(cc_f1)"
   ]
  },
  {
   "cell_type": "markdown",
   "metadata": {},
   "source": [
    "### Comparison with Binary Relevance Approaches"
   ]
  },
  {
   "cell_type": "markdown",
   "metadata": {},
   "source": [
    "#### Accuracy Scores"
   ]
  },
  {
   "cell_type": "code",
   "execution_count": 205,
   "metadata": {},
   "outputs": [
    {
     "data": {
      "text/plain": [
       "<matplotlib.legend.Legend at 0x21d89857f08>"
      ]
     },
     "execution_count": 205,
     "metadata": {},
     "output_type": "execute_result"
    },
    {
     "data": {
      "image/png": "[encoded data removed]",
      "text/plain": [
       "<Figure size 432x288 with 1 Axes>"
      ]
     },
     "metadata": {
      "needs_background": "light"
     },
     "output_type": "display_data"
    }
   ],
   "source": [
    "plt.plot(list(br_clf_accuracies.keys()), list(br_clf_accuracies.values()))\n",
    "plt.plot(list(br_clfus_accuracies.keys()), list(br_clfus_accuracies.values()))\n",
    "plt.plot(list(cc_accuracies.keys()), list(cc_accuracies.values()))\n",
    "plt.xticks(rotation=90)\n",
    "plt.legend(['Binary Relevance','BR-Under-Sampling', 'Classifier Chains'])"
   ]
  },
  {
   "cell_type": "markdown",
   "metadata": {},
   "source": [
    "#### F1 Scores"
   ]
  },
  {
   "cell_type": "code",
   "execution_count": 206,
   "metadata": {},
   "outputs": [
    {
     "data": {
      "text/plain": [
       "<matplotlib.legend.Legend at 0x21d898c55c8>"
      ]
     },
     "execution_count": 206,
     "metadata": {},
     "output_type": "execute_result"
    },
    {
     "data": {
      "image/png": "[encoded data removed]",
      "text/plain": [
       "<Figure size 432x288 with 1 Axes>"
      ]
     },
     "metadata": {
      "needs_background": "light"
     },
     "output_type": "display_data"
    }
   ],
   "source": [
    "plt.plot(list(br_clf_f1.keys()), list(br_clf_f1.values()))\n",
    "plt.plot(list(br_clfus_f1.keys()), list(br_clfus_f1.values()))\n",
    "plt.plot(list(cc_f1.keys()), list(cc_f1.values()))\n",
    "plt.xticks(rotation=90)\n",
    "plt.legend(['Binary Relevance','BR-Under-Sampling', 'Classifier Chains'])"
   ]
  },
  {
   "cell_type": "markdown",
   "metadata": {},
   "source": [
    "## Task 6: Reflect on the Performance of the Different Models Evaluated"
   ]
  },
  {
   "cell_type": "markdown",
   "metadata": {},
   "source": [
    "Consider **BR=Binary Relevance Classifier, BRUS=Binary Relevance Classifier with Under Sampling, CC=Classifier Chains.**\n",
    "\n",
    "**From the above experiment we can conclude that:**\n",
    "\n",
    "* BR works much better than BRUS. This is because with undersampling, relevant training samples may be lost which affect the accuracy.\n",
    "* BRUS gives better F1 scores for all the base models as compared to BR. Lower F1 score is an indication that the data is highly biased which means high precision and low recall. So when the data gets more balanced after undersampling, we achieve better F1 scores.\n",
    "* CC works better than BR and BRUS because it takes label dependency into consideration while making predictions. BR on the other hand fits and predicts independently of other labels. To my surprise, in this experiment we can obseve that CC outperforms BR only in case of RandomForest as the base model. \n",
    "* The performance of CC depends on the label order as while making current predictions, we consider the results and labels of previous predictions. To experiment with label ordering, random 20 label orders were used in grid search. To my observation, the results accross different runs are inconsistent pertaining to label orders.(refer the above plots)\n",
    "* In terms of complexity, BR is simple and faster as compared to CC. In terms of performance, CC has better performance than BR due to reasons mentioned above.\n",
    "* While dealing with Yeast Dataset, CC works slightly better than BR which is a surprise. So, while dealing with Yeast Dataset, we can use BR as an adequate model if complexity and speed is a concern."
   ]
  },
  {
   "cell_type": "markdown",
   "metadata": {},
   "source": [
    "# References:"
   ]
  },
  {
   "cell_type": "markdown",
   "metadata": {},
   "source": [
    "[1] Read, J., Pfahringer, B., Holmes, G. and Frank, E. (2011). Classifier chains for multi-label classification. Machine Learning, [online] 85(3), pp.333-359. Available at: https://link.springer.com/content/pdf/10.1007/s10994-011-5256-5.pdf."
   ]
  },
  {
   "cell_type": "markdown",
   "metadata": {},
   "source": [
    "[2] A Literature Survey on Algorithms for Multi-label Learning by Mohammad S Sorower. Available at: https://pdfs.semanticscholar.org/6b56/91db1e3a79af5e3c136d2dd322016a687a0b.pdf"
   ]
  },
  {
   "cell_type": "markdown",
   "metadata": {},
   "source": [
    "\n"
   ]
  }
 ],
 "metadata": {
  "kernelspec": {
   "display_name": "Python 3",
   "language": "python",
   "name": "python3"
  },
  "language_info": {
   "codemirror_mode": {
    "name": "ipython",
    "version": 3
   },
   "file_extension": ".py",
   "mimetype": "text/x-python",
   "name": "python",
   "nbconvert_exporter": "python",
   "pygments_lexer": "ipython3",
   "version": "3.7.4"
  }
 },
 "nbformat": 4,
 "nbformat_minor": 2
}
